{
  "nbformat": 4,
  "nbformat_minor": 0,
  "metadata": {
    "colab": {
      "provenance": [],
      "authorship_tag": "ABX9TyPL5CqFquVaOTTHASiAJc4a",
      "include_colab_link": true
    },
    "kernelspec": {
      "name": "python3",
      "display_name": "Python 3"
    },
    "language_info": {
      "name": "python"
    }
  },
  "cells": [
    {
      "cell_type": "markdown",
      "metadata": {
        "id": "view-in-github",
        "colab_type": "text"
      },
      "source": [
        "<a href=\"https://colab.research.google.com/github/tsaabitasabita/contoh-2/blob/main/Untitled12_ip.ipynb\" target=\"_parent\"><img src=\"https://colab.research.google.com/assets/colab-badge.svg\" alt=\"Open In Colab\"/></a>"
      ]
    },
    {
      "cell_type": "markdown",
      "source": [
        "# Business Understanding"
      ],
      "metadata": {
        "id": "k7Yo0X_8_fWT"
      }
    },
    {
      "cell_type": "code",
      "source": [
        "import pandas as pd\n",
        "\n"
      ],
      "metadata": {
        "id": "9lSVQLZ4Ai-S"
      },
      "execution_count": 5,
      "outputs": []
    },
    {
      "cell_type": "code",
      "source": [
        "df = pd.read_csv('/content/db.csv', encoding='latin-1')\n",
        "print(df)"
      ],
      "metadata": {
        "colab": {
          "base_uri": "https://localhost:8080/"
        },
        "id": "3tbA-tgqCxVw",
        "outputId": "0d257a58-2c3b-4bf7-ae9b-a4296aa6ee64"
      },
      "execution_count": 9,
      "outputs": [
        {
          "output_type": "stream",
          "name": "stdout",
          "text": [
            "    Unnamed: 0                       Original Title Company  Rate  Metascore  \\\n",
            "0            1                             Iron Man  Marvel   7.9         79   \n",
            "1            2                  The Incredible Hulk  Marvel   6.7         61   \n",
            "2            3                           Iron Man 2  Marvel   7.0         57   \n",
            "3            4                                 Thor  Marvel   7.0         57   \n",
            "4            5   Captain America: The First Avenger  Marvel   6.9         66   \n",
            "5            6                         The Avengers  Marvel   8.0         69   \n",
            "6            7                       Iron Man Three  Marvel   7.2         62   \n",
            "7            8                 Thor: The Dark World  Marvel   6.9         54   \n",
            "8            9  Captain America: The Winter Soldier  Marvel   7.7         70   \n",
            "9           10              Guardians of the Galaxy  Marvel   8.0         76   \n",
            "10          11             Avengers: Age of Ultron   Marvel   7.3         66   \n",
            "11          12                              Ant-Man  Marvel   7.3         64   \n",
            "12          13           Captain America: Civil War  Marvel   7.8         75   \n",
            "13          14                       Doctor Strange  Marvel   7.5         72   \n",
            "14          15       Guardians of the Galaxy Vol. 2  Marvel   7.6         67   \n",
            "15          16               Spider-Man: Homecoming  Marvel   7.4         73   \n",
            "16          17                        Thor:Ragnarok  Marvel   7.9         74   \n",
            "17          18                        Black Panther  Marvel   7.3         88   \n",
            "18          19               Avengers: Infinity War  Marvel   8.5         68   \n",
            "19          20                 Ant-Man and the Wasp  Marvel   7.1         70   \n",
            "20          21                        Captain Marve  Marvel   6.9         64   \n",
            "21          22                    Avengers: Endgame  Marvel   8.5         78   \n",
            "22          23            Spider-Man: Far from Home  Marvel   7.6         69   \n",
            "23          24                             Catwoman      DC   3.3         27   \n",
            "24          25                        Batman Begins      DC   8.2         70   \n",
            "25          26                     Superman Returns      DC   6.0         72   \n",
            "26          27                      The Dark Knight      DC   9.0         84   \n",
            "27          28                             Watchmen      DC   7.6         56   \n",
            "28          29                           Jonah Hex       DC   4.7         33   \n",
            "29          30                        Green Lantern      DC   5.5         39   \n",
            "30          31                The Dark Knight Rises      DC   8.4         78   \n",
            "31          32                         Man of Steel      DC   7.1         55   \n",
            "32          33   Batman v Superman: Dawn of Justice      DC   6.5         44   \n",
            "33          34                       Suicide Squad       DC   6.0         40   \n",
            "34          35                         Wonder Woman      DC   7.4         76   \n",
            "35          36                       Justice League      DC   6.4         45   \n",
            "36          37                              Aquaman      DC   7.0         55   \n",
            "37          38                              Shazam!      DC   7.1         71   \n",
            "38          39                                Joker      DC   8.7         59   \n",
            "\n",
            "   Minutes  Release      Budget  Opening Weekend USA  Gross USA  \\\n",
            "0      126     2008   140000000             98618668  318604126   \n",
            "1     112      2008   150000000             55414050  134806913   \n",
            "2     124      2010   200000000            128122480  312433331   \n",
            "3      115     2011  150000000              65723338  181030624   \n",
            "4      124     2011   140000000             65058524  176654505   \n",
            "5      143     2012   220000000            207438708  623357910   \n",
            "6      130     2013  200000000             174144585  409013994   \n",
            "7      112     2013   170000000             85737841  206362140   \n",
            "8      136     2014   170000000             95023721  259766572   \n",
            "9      121     2014   170000000             94320883  333176600   \n",
            "10     141     2015   250000000            191271109  459005868   \n",
            "11     117     2015   130000000             57225526  180202163   \n",
            "12     147     2016   250000000            179139142  408084349   \n",
            "13     115     2016   165000000             85058311  232641920   \n",
            "14     136     2017   200000000            146510104  389813101   \n",
            "15     133     2017  175000000             117027503  334201140   \n",
            "16     130     2017   180000000            122744989  315058289   \n",
            "17     134     2018   200000000            202003951  700059566   \n",
            "18     149     2018  321000000             257698183  678815482   \n",
            "19     118     2018   162000000             75812205  216648740   \n",
            "20     123     2019  175000000             153433423  426829839   \n",
            "21     181     2019   356000000            357115007  858373000   \n",
            "22     129     2019   160000000             92579212  390532085   \n",
            "23     104     2004   100000000             16728411   40202379   \n",
            "24     140     2005   150000000             48745440  206852432   \n",
            "25     154     2006   270000000             52535096  200081192   \n",
            "26     152     2008   185000000            158411483  535234033   \n",
            "27     162     2009   130000000             55214334  107509799   \n",
            "28      81     2010   47000000               5379365   10547117   \n",
            "29     114     2011   200000000             53174303  116601172   \n",
            "30     164     2012   250000000            160887295  448139099   \n",
            "31     143     2013   225000000            116619362  291045518   \n",
            "32     151     2016   250000000            166007347  330360194   \n",
            "33     123     2016   175000000            133682248  325100054   \n",
            "34     141     2017   149000000            103251471  412563408   \n",
            "35     120     2017   300000000             93842239  229024295   \n",
            "36     143     2018   160000000             67873522  335061807   \n",
            "37     132     2019   100000000             53505326  140371656   \n",
            "38     122     2019   55000000              96202337  333204580   \n",
            "\n",
            "    Gross Worldwide  \n",
            "0         585366247  \n",
            "1         263427551  \n",
            "2         623933331  \n",
            "3         449326618  \n",
            "4         370569774  \n",
            "5        1518812988  \n",
            "6        1214811252  \n",
            "7         644783140  \n",
            "8         714421503  \n",
            "9         772776600  \n",
            "10       1402805868  \n",
            "11        519311965  \n",
            "12       1153296293  \n",
            "13        677718395  \n",
            "14        863756051  \n",
            "15        880166924  \n",
            "16        853977126  \n",
            "17       1346913161  \n",
            "18       2048359754  \n",
            "19        622674139  \n",
            "20       1128274794  \n",
            "21       2797800564  \n",
            "22       1131927996  \n",
            "23         82102379  \n",
            "24        373413297  \n",
            "25        391081192  \n",
            "26       1004934033  \n",
            "27        185258983  \n",
            "28         10903312  \n",
            "29        219851172  \n",
            "30       1081041287  \n",
            "31        668045518  \n",
            "32        873634919  \n",
            "33        746846894  \n",
            "34        821847012  \n",
            "35        657924295  \n",
            "36       1148161807  \n",
            "37        364571656  \n",
            "38       1060504580  \n"
          ]
        }
      ]
    },
    {
      "cell_type": "code",
      "source": [
        "kolom_tertentu = \"Company\"\n",
        "if kolom_tertentu in df.columns:\n",
        "    print(f\"\\nMenghitung jumlah kemunculan nilai unik dalam kolom '{kolom_tertentu}':\")\n",
        "    print(df[kolom_tertentu].value_counts())\n",
        "else:\n",
        "    print(f\"\\nKolom '{kolom_tertentu}' tidak ditemukan dalam dataset.\")\n"
      ],
      "metadata": {
        "colab": {
          "base_uri": "https://localhost:8080/"
        },
        "id": "tio91MC-DXTW",
        "outputId": "096e8e7e-6971-4d81-cca3-525afac9e26c"
      },
      "execution_count": 11,
      "outputs": [
        {
          "output_type": "stream",
          "name": "stdout",
          "text": [
            "\n",
            "Menghitung jumlah kemunculan nilai unik dalam kolom 'Company':\n",
            "Company\n",
            "Marvel    23\n",
            "DC        16\n",
            "Name: count, dtype: int64\n"
          ]
        }
      ]
    },
    {
      "cell_type": "code",
      "source": [
        "print(\"\\nMenghitung rata-rata dengan df.mean():\")\n",
        "print(df.mean(numeric_only=True))"
      ],
      "metadata": {
        "colab": {
          "base_uri": "https://localhost:8080/"
        },
        "id": "3_O50w8HEB2t",
        "outputId": "e5ae2351-aa88-4586-c94d-b570ff332199"
      },
      "execution_count": 12,
      "outputs": [
        {
          "output_type": "stream",
          "name": "stdout",
          "text": [
            "\n",
            "Menghitung rata-rata dengan df.mean():\n",
            "Unnamed: 0             2.000000e+01\n",
            "Rate                   7.202564e+00\n",
            "Metascore              6.366667e+01\n",
            "Release                2.013795e+03\n",
            "Opening Weekend USA    1.151098e+08\n",
            "Gross USA              3.232659e+08\n",
            "Gross Worldwide        8.275727e+08\n",
            "dtype: float64\n"
          ]
        }
      ]
    },
    {
      "cell_type": "code",
      "source": [
        "print(\"\\nMenghitung median dengan df.median():\")\n",
        "print(df.median(numeric_only=True))"
      ],
      "metadata": {
        "colab": {
          "base_uri": "https://localhost:8080/"
        },
        "id": "xUY1IORoEDwA",
        "outputId": "524e130e-45e2-425b-a3fb-d9461d2c1be1"
      },
      "execution_count": 13,
      "outputs": [
        {
          "output_type": "stream",
          "name": "stdout",
          "text": [
            "\n",
            "Menghitung median dengan df.median():\n",
            "Unnamed: 0                    20.0\n",
            "Rate                           7.3\n",
            "Metascore                     67.0\n",
            "Release                     2015.0\n",
            "Opening Weekend USA     96202337.0\n",
            "Gross USA              318604126.0\n",
            "Gross Worldwide        746846894.0\n",
            "dtype: float64\n"
          ]
        }
      ]
    },
    {
      "cell_type": "code",
      "source": [
        "print(\"\\nMenghitung standar deviasi dengan df.std():\")\n",
        "print(df.std(numeric_only=True))"
      ],
      "metadata": {
        "colab": {
          "base_uri": "https://localhost:8080/"
        },
        "id": "vJ8Su5dVEIuE",
        "outputId": "a21586b4-ea47-4911-e5b0-8e33e5108b35"
      },
      "execution_count": 14,
      "outputs": [
        {
          "output_type": "stream",
          "name": "stdout",
          "text": [
            "\n",
            "Menghitung standar deviasi dengan df.std():\n",
            "Unnamed: 0             1.140175e+01\n",
            "Rate                   1.074706e+00\n",
            "Metascore              1.386084e+01\n",
            "Release                4.286942e+00\n",
            "Opening Weekend USA    6.866708e+07\n",
            "Gross USA              1.807086e+08\n",
            "Gross Worldwide        5.332318e+08\n",
            "dtype: float64\n"
          ]
        }
      ]
    },
    {
      "cell_type": "code",
      "source": [
        "print(\"\\nMenghitung korelasi antar kolom numerik dengan df.corr():\")\n",
        "print(df.corr(numeric_only=True))"
      ],
      "metadata": {
        "colab": {
          "base_uri": "https://localhost:8080/"
        },
        "id": "8P4NceYUENjG",
        "outputId": "d42dbd9e-ded2-4aa6-a52b-83465aa82201"
      },
      "execution_count": 15,
      "outputs": [
        {
          "output_type": "stream",
          "name": "stdout",
          "text": [
            "\n",
            "Menghitung korelasi antar kolom numerik dengan df.corr():\n",
            "                     Unnamed: 0      Rate  Metascore   Release  \\\n",
            "Unnamed: 0             1.000000 -0.143460  -0.281745  0.247660   \n",
            "Rate                  -0.143460  1.000000   0.786901  0.331977   \n",
            "Metascore             -0.281745  0.786901   1.000000  0.232213   \n",
            "Release                0.247660  0.331977   0.232213  1.000000   \n",
            "Opening Weekend USA   -0.112277  0.521689   0.425888  0.433480   \n",
            "Gross USA             -0.062961  0.609582   0.575244  0.449439   \n",
            "Gross Worldwide       -0.031942  0.565348   0.450119  0.552735   \n",
            "\n",
            "                     Opening Weekend USA  Gross USA  Gross Worldwide  \n",
            "Unnamed: 0                     -0.112277  -0.062961        -0.031942  \n",
            "Rate                            0.521689   0.609582         0.565348  \n",
            "Metascore                       0.425888   0.575244         0.450119  \n",
            "Release                         0.433480   0.449439         0.552735  \n",
            "Opening Weekend USA             1.000000   0.935783         0.933075  \n",
            "Gross USA                       0.935783   1.000000         0.939677  \n",
            "Gross Worldwide                 0.933075   0.939677         1.000000  \n"
          ]
        }
      ]
    },
    {
      "cell_type": "code",
      "source": [],
      "metadata": {
        "colab": {
          "base_uri": "https://localhost:8080/"
        },
        "id": "YDXLzT-SEPMh",
        "outputId": "5eb13183-80ae-43a7-821c-f7abed38bfbb"
      },
      "execution_count": 16,
      "outputs": [
        {
          "output_type": "stream",
          "name": "stdout",
          "text": [
            "\n",
            "Menghitung korelasi antar kolom numerik dengan df.corr():\n",
            "                     Unnamed: 0      Rate  Metascore   Release  \\\n",
            "Unnamed: 0             1.000000 -0.143460  -0.281745  0.247660   \n",
            "Rate                  -0.143460  1.000000   0.786901  0.331977   \n",
            "Metascore             -0.281745  0.786901   1.000000  0.232213   \n",
            "Release                0.247660  0.331977   0.232213  1.000000   \n",
            "Opening Weekend USA   -0.112277  0.521689   0.425888  0.433480   \n",
            "Gross USA             -0.062961  0.609582   0.575244  0.449439   \n",
            "Gross Worldwide       -0.031942  0.565348   0.450119  0.552735   \n",
            "\n",
            "                     Opening Weekend USA  Gross USA  Gross Worldwide  \n",
            "Unnamed: 0                     -0.112277  -0.062961        -0.031942  \n",
            "Rate                            0.521689   0.609582         0.565348  \n",
            "Metascore                       0.425888   0.575244         0.450119  \n",
            "Release                         0.433480   0.449439         0.552735  \n",
            "Opening Weekend USA             1.000000   0.935783         0.933075  \n",
            "Gross USA                       0.935783   1.000000         0.939677  \n",
            "Gross Worldwide                 0.933075   0.939677         1.000000  \n"
          ]
        }
      ]
    }
  ]
}